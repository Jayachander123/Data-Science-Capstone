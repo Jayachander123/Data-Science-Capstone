{
    "nbformat_minor": 1, 
    "cells": [
        {
            "source": "The notebook will be mainly used for Capstone Project which is very important in demonstating Students Background and technicality of his understandings from the course. The projects also designed to help in analytical, Critical thinking, communication skills and ability to connect theis insights with ", 
            "cell_type": "markdown", 
            "metadata": {
                "collapsed": true
            }
        }
    ], 
    "metadata": {
        "kernelspec": {
            "display_name": "Python 3.5", 
            "name": "python3", 
            "language": "python"
        }, 
        "language_info": {
            "mimetype": "text/x-python", 
            "nbconvert_exporter": "python", 
            "version": "3.5.5", 
            "name": "python", 
            "file_extension": ".py", 
            "pygments_lexer": "ipython3", 
            "codemirror_mode": {
                "version": 3, 
                "name": "ipython"
            }
        }
    }, 
    "nbformat": 4
}